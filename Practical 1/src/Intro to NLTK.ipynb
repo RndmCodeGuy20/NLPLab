{
 "cells": [
  {
   "cell_type": "markdown",
   "source": [
    "<center><h1 >Shri Ramdeobaba College of Engineering and Management<br>Nagpur 440013</h1></center>\n",
    "<center><h1 >Department of Computer Science Engineering (AIML)</h1></center>\n",
    "<center><h2 >Natural Language Processing Lab - Practical 1</h2></center>\n",
    "\n",
    "---\n",
    "\n",
    "<div class=\"text aim\">Aim :\n",
    "️</div>\n",
    "\n",
    "---"
   ],
   "metadata": {
    "collapsed": false
   }
  },
  {
   "cell_type": "markdown",
   "source": [
    "<style>\n",
    "    h1, h2, h3 {\n",
    "            font-family: 'Garamond', sans-serif;\n",
    "        }\n",
    "\n",
    "        h3 {\n",
    "            font-size: 26px;\n",
    "        }\n",
    "\n",
    "        .text, h4 {\n",
    "            font-family: 'IBM Plex Sans', sans-serif;\n",
    "        }\n",
    "\n",
    "        .aim {\n",
    "            font-size: 24px;\n",
    "            padding: 20px 0px 20px 0px;\n",
    "        }\n",
    "        .quote {\n",
    "            font-family: 'Inria Sans', sans-serif;\n",
    "            background: lightblue;\n",
    "            padding: 10px 10px;\n",
    "            border-radius: 2px;\n",
    "        }\n",
    "\n",
    "        body {\n",
    "            color: black;\n",
    "            padding: 30px 100px;\n",
    "            background-color: #ffffff;\n",
    "            }\n",
    "\n",
    "        pre {\n",
    "            background-color: #ebebeb;\n",
    "            padding: 10px;\n",
    "            border-radius: 5px;\n",
    "            font-size: 14px;\n",
    "            font-family: 'JetBrains Mono';\n",
    "        }\n",
    "\n",
    "        code {\n",
    "            font-family: 'JetBrains Mono';\n",
    "        }\n",
    "\n",
    "        .hljs-keyword {\n",
    "            color: #c678dd;\n",
    "        }\n",
    "\n",
    "        hr.top {\n",
    "            overflow: visible;\n",
    "            /* For IE */\n",
    "            height: 30px;\n",
    "            border-style: solid;\n",
    "            border-color: black;\n",
    "            border-width: 1px 0 0 0;\n",
    "            border-radius: 20px;\n",
    "            margin-top: 30px;\n",
    "        }\n",
    "\n",
    "        hr {\n",
    "  position:relative;\n",
    "  padding:3rem 0;\n",
    "  border:none;\n",
    "}\n",
    "hr:before {\n",
    "  content:'↬';\n",
    "  position:absolute;\n",
    "  top:1.2rem;\n",
    "  right:0;\n",
    "  left:0;\n",
    "  font-size:1.5em;\n",
    "  color:black;\n",
    "  text-align:center;\n",
    "}\n",
    "\n",
    "        a {\n",
    "            text-decoration: none;\n",
    "            color: black;\n",
    "            font-family: 'Inria Sans', sans-serif;\n",
    "            font-size: 18px;\n",
    "        }\n",
    "        .hljs-string {\n",
    "            color: #98c379;\n",
    "        }\n",
    "        .hljs-number {\n",
    "            color: #e5c07b;\n",
    "        }\n",
    "    </style>"
   ],
   "metadata": {
    "collapsed": false
   }
  },
  {
   "cell_type": "code",
   "execution_count": 1,
   "metadata": {
    "collapsed": true
   },
   "outputs": [],
   "source": [
    "import nltk"
   ]
  },
  {
   "cell_type": "code",
   "execution_count": 2,
   "outputs": [
    {
     "name": "stdout",
     "output_type": "stream",
     "text": [
      "showing info https://raw.githubusercontent.com/nltk/nltk_data/gh-pages/index.xml\n"
     ]
    },
    {
     "data": {
      "text/plain": "True"
     },
     "execution_count": 2,
     "metadata": {},
     "output_type": "execute_result"
    }
   ],
   "source": [
    "nltk.download()"
   ],
   "metadata": {
    "collapsed": false
   }
  },
  {
   "cell_type": "code",
   "execution_count": 3,
   "outputs": [
    {
     "name": "stdout",
     "output_type": "stream",
     "text": [
      "*** Introductory Examples for the NLTK Book ***\n",
      "Loading text1, ..., text9 and sent1, ..., sent9\n",
      "Type the name of the text or sentence to view it.\n",
      "Type: 'texts()' or 'sents()' to list the materials.\n",
      "text1: Moby Dick by Herman Melville 1851\n",
      "text2: Sense and Sensibility by Jane Austen 1811\n",
      "text3: The Book of Genesis\n",
      "text4: Inaugural Address Corpus\n",
      "text5: Chat Corpus\n",
      "text6: Monty Python and the Holy Grail\n",
      "text7: Wall Street Journal\n",
      "text8: Personals Corpus\n",
      "text9: The Man Who Was Thursday by G . K . Chesterton 1908\n"
     ]
    },
    {
     "data": {
      "text/plain": "<Text: The Book of Genesis>"
     },
     "execution_count": 3,
     "metadata": {},
     "output_type": "execute_result"
    }
   ],
   "source": [
    "from nltk.book import *\n",
    "\n",
    "text3"
   ],
   "metadata": {
    "collapsed": false
   }
  },
  {
   "cell_type": "code",
   "execution_count": 4,
   "outputs": [
    {
     "name": "stdout",
     "output_type": "stream",
     "text": [
      "Displaying 11 of 11 matches:\n",
      "ong the former , one was of a most monstrous size . ... This came towards us , \n",
      "ON OF THE PSALMS . \" Touching that monstrous bulk of the whale or ork we have r\n",
      "ll over with a heathenish array of monstrous clubs and spears . Some were thick\n",
      "d as you gazed , and wondered what monstrous cannibal and savage could ever hav\n",
      "that has survived the flood ; most monstrous and most mountainous ! That Himmal\n",
      "they might scout at Moby Dick as a monstrous fable , or still worse and more de\n",
      "th of Radney .'\" CHAPTER 55 Of the Monstrous Pictures of Whales . I shall ere l\n",
      "ing Scenes . In connexion with the monstrous pictures of whales , I am strongly\n",
      "ere to enter upon those still more monstrous stories of them which are to be fo\n",
      "ght have been rummaged out of this monstrous cabinet there is no telling . But \n",
      "of Whale - Bones ; for Whales of a monstrous size are oftentimes cast up dead u\n"
     ]
    }
   ],
   "source": [
    "text1.concordance(\"monstrous\")"
   ],
   "metadata": {
    "collapsed": false
   }
  },
  {
   "cell_type": "code",
   "execution_count": 5,
   "outputs": [
    {
     "name": "stderr",
     "output_type": "stream",
     "text": [
      "Building ngram index...\n"
     ]
    },
    {
     "name": "stdout",
     "output_type": "stream",
     "text": [
      "lamb for a burnt offering in the city . , duke Elah , duke Shobal ,\n",
      "and Akan . and looked upon my affliction . Because the LORD God\n",
      "amongst the trees of the mighty God of Abraham his father , that they\n",
      "found a plain man , and the wo The blessings of my hand to do justice\n",
      "and judgment ; that the LORD that spake unto me , and put him into the\n",
      "ark , and for your little ones . they heard that they have brought it\n",
      "unto Hagar , Sarai ' s brother will I slay\n"
     ]
    },
    {
     "data": {
      "text/plain": "\"lamb for a burnt offering in the city . , duke Elah , duke Shobal ,\\nand Akan . and looked upon my affliction . Because the LORD God\\namongst the trees of the mighty God of Abraham his father , that they\\nfound a plain man , and the wo The blessings of my hand to do justice\\nand judgment ; that the LORD that spake unto me , and put him into the\\nark , and for your little ones . they heard that they have brought it\\nunto Hagar , Sarai ' s brother will I slay\""
     },
     "execution_count": 5,
     "metadata": {},
     "output_type": "execute_result"
    }
   ],
   "source": [
    "text3.generate()"
   ],
   "metadata": {
    "collapsed": false
   }
  },
  {
   "cell_type": "code",
   "execution_count": 6,
   "outputs": [
    {
     "data": {
      "text/plain": "5"
     },
     "execution_count": 6,
     "metadata": {},
     "output_type": "execute_result"
    }
   ],
   "source": [
    "test_sentence = [\"Hi\", \"I\", \"am\", \"Shantanu\", \".\"]\n",
    "\n",
    "len(test_sentence)"
   ],
   "metadata": {
    "collapsed": false
   }
  },
  {
   "cell_type": "code",
   "execution_count": 9,
   "outputs": [
    {
     "name": "stdout",
     "output_type": "stream",
     "text": [
      "lexical diversity of `test_sentence` : 1.0\n",
      "lexical diversity of `the book of genesis` : 0.06230453042623537\n"
     ]
    }
   ],
   "source": [
    "# function to get lexical diversity of any sentence.\n",
    "\n",
    "def lexical_diversity(text: str) -> float:\n",
    "    \"\"\"\n",
    "    Function to calculate the lexical diversity of any sentence.\n",
    "    Words that possess semantic content and contribute to the meaning of the sentence.\n",
    "    Parameters\n",
    "    ----------\n",
    "    text: str\n",
    "        input string\n",
    "\n",
    "    Returns\n",
    "    --------\n",
    "    float\n",
    "        lexical diversity\n",
    "    \"\"\"\n",
    "    return len(set(text)) / len(text)\n",
    "\n",
    "\n",
    "print(\n",
    "    f'lexical diversity of `test_sentence` : {lexical_diversity(test_sentence)}\\nlexical diversity of `the book of genesis` : {lexical_diversity(text3)}')"
   ],
   "metadata": {
    "collapsed": false
   }
  },
  {
   "cell_type": "markdown",
   "source": [
    "## Reading Words from a File to Tokenize"
   ],
   "metadata": {
    "collapsed": false
   }
  },
  {
   "cell_type": "code",
   "execution_count": 12,
   "outputs": [
    {
     "data": {
      "text/plain": "'Splitting textual data into sentences can be considered as an easy task, where a text can be split to sentences by or  characters. However, in free text data this pattern is not consistent, and authors can break a line in the middle of the sentence or use \".\" in wrong places. These phenomena are common in medical visits summary texts and conversational/messaging texts for example.'"
     },
     "execution_count": 12,
     "metadata": {},
     "output_type": "execute_result"
    }
   ],
   "source": [
    "file_data = open(\"../data/sentences.txt\")\n",
    "\n",
    "raw_file_data = file_data.read()\n",
    "\n",
    "raw_file_data"
   ],
   "metadata": {
    "collapsed": false
   }
  },
  {
   "cell_type": "markdown",
   "source": [
    "## Reading Words from a Website to Tokenize"
   ],
   "metadata": {
    "collapsed": false
   }
  },
  {
   "cell_type": "code",
   "execution_count": 13,
   "outputs": [
    {
     "data": {
      "text/plain": "\"\\n\\n\\n\\nNLTK Book\\n\\n\\n\\nNatural Language Processing with Python\\n– Analyzing Text with the Natural Language Toolkit\\nSteven Bird, Ewan Klein, and Edward Loper\\n\\nThis version of the NLTK book is updated for Python 3 and NLTK 3.\\r\\n  The first edition of the book, published by O'Reilly, is available at\\r\\n  http://nltk.org/book_1ed/.\\r\\n  (There are currently no plans for a second edition of the book.)\\r\\n\\n\\n\\n0. Preface\\n1. Language Processing and Python\\n2. Accessing Text Corpora and Lexical Resources\\n3. Processing Raw Text\\n4. Writing Structured Programs\\n5. Categorizing and Tagging Words (minor fixes still required)\\n6. Learning to Classify Text\\n7. Extracting Information from Text\\n8. Analyzing Sentence Structure\\n9. Building Feature Based Grammars\\n10. Analyzing the Meaning of Sentences (minor fixes still required)\\n11. Managing Linguistic Data (minor fixes still required)\\n12. Afterword: Facing the Language Challenge\\nBibliography  Term Index\\n\\n\\nThis book is made available under the terms of the Creative Commons Attribution Noncommercial No-Derivative-Works 3.0 US License.\\r\\n\\r\\nPlease post any questions about the materials to the nltk-users mailing list.\\r\\nPlease report any errors on the issue tracker.\\r\\n\\r\\n\\n\\n\""
     },
     "execution_count": 13,
     "metadata": {},
     "output_type": "execute_result"
    }
   ],
   "source": [
    "from urllib import request\n",
    "from bs4 import BeautifulSoup\n",
    "\n",
    "req = request.urlopen(\"https://www.nltk.org/book/\")\n",
    "raw_html_doc = req.read()\n",
    "\n",
    "bs_html_doc = BeautifulSoup(raw_html_doc, 'html.parser').get_text()\n",
    "\n",
    "bs_html_doc"
   ],
   "metadata": {
    "collapsed": false
   }
  },
  {
   "cell_type": "markdown",
   "source": [
    "## Introduction to NLTK Tokens"
   ],
   "metadata": {
    "collapsed": false
   }
  },
  {
   "cell_type": "code",
   "execution_count": 14,
   "outputs": [],
   "source": [
    "from nltk.tokenize import word_tokenize"
   ],
   "metadata": {
    "collapsed": false
   }
  },
  {
   "cell_type": "code",
   "execution_count": 15,
   "outputs": [
    {
     "data": {
      "text/plain": "['Splitting',\n 'textual',\n 'data',\n 'into',\n 'sentences',\n 'can',\n 'be',\n 'considered',\n 'as',\n 'an',\n 'easy',\n 'task',\n ',',\n 'where',\n 'a',\n 'text',\n 'can',\n 'be',\n 'split',\n 'to',\n 'sentences',\n 'by',\n 'or',\n 'characters',\n '.',\n 'However',\n ',',\n 'in',\n 'free',\n 'text',\n 'data',\n 'this',\n 'pattern',\n 'is',\n 'not',\n 'consistent',\n ',',\n 'and',\n 'authors',\n 'can',\n 'break',\n 'a',\n 'line',\n 'in',\n 'the',\n 'middle',\n 'of',\n 'the',\n 'sentence',\n 'or',\n 'use',\n '``',\n '.',\n \"''\",\n 'in',\n 'wrong',\n 'places',\n '.',\n 'These',\n 'phenomena',\n 'are',\n 'common',\n 'in',\n 'medical',\n 'visits',\n 'summary',\n 'texts',\n 'and',\n 'conversational/messaging',\n 'texts',\n 'for',\n 'example',\n '.']"
     },
     "execution_count": 15,
     "metadata": {},
     "output_type": "execute_result"
    }
   ],
   "source": [
    "token_list = word_tokenize(raw_file_data)\n",
    "\n",
    "token_list"
   ],
   "metadata": {
    "collapsed": false
   }
  },
  {
   "cell_type": "code",
   "execution_count": 16,
   "outputs": [
    {
     "data": {
      "text/plain": "['The', 'Fulton', 'County', 'Grand', 'Jury', 'said', ...]"
     },
     "execution_count": 16,
     "metadata": {},
     "output_type": "execute_result"
    }
   ],
   "source": [
    "from nltk.corpus import brown\n",
    "\n",
    "brown.words()"
   ],
   "metadata": {
    "collapsed": false
   }
  },
  {
   "cell_type": "code",
   "execution_count": 17,
   "outputs": [
    {
     "data": {
      "text/plain": "['austen-emma.txt',\n 'austen-persuasion.txt',\n 'austen-sense.txt',\n 'bible-kjv.txt',\n 'blake-poems.txt',\n 'bryant-stories.txt',\n 'burgess-busterbrown.txt',\n 'carroll-alice.txt',\n 'chesterton-ball.txt',\n 'chesterton-brown.txt',\n 'chesterton-thursday.txt',\n 'edgeworth-parents.txt',\n 'melville-moby_dick.txt',\n 'milton-paradise.txt',\n 'shakespeare-caesar.txt',\n 'shakespeare-hamlet.txt',\n 'shakespeare-macbeth.txt',\n 'whitman-leaves.txt']"
     },
     "execution_count": 17,
     "metadata": {},
     "output_type": "execute_result"
    }
   ],
   "source": [
    "nltk.corpus.gutenberg.fileids()"
   ],
   "metadata": {
    "collapsed": false
   }
  },
  {
   "cell_type": "code",
   "execution_count": 18,
   "outputs": [
    {
     "data": {
      "text/plain": "['[', 'The', 'Tragedie', 'of', 'Hamlet', 'by', ...]"
     },
     "execution_count": 18,
     "metadata": {},
     "output_type": "execute_result"
    }
   ],
   "source": [
    "hamlet = nltk.corpus.gutenberg.words('shakespeare-hamlet.txt')\n",
    "\n",
    "hamlet"
   ],
   "metadata": {
    "collapsed": false
   }
  },
  {
   "cell_type": "code",
   "execution_count": 21,
   "outputs": [
    {
     "name": "stdout",
     "output_type": "stream",
     "text": [
      "[ The Tragedie of Hamlet by William Shakespeare 1599 ] Actus Primus . Scoena Prima . Enter Barnardo and Francisco two Centinels . Barnardo . Who ' s there ? Fran . Nay answer me : Stand & vnfold your selfe Bar . Long liue the King Fran . Barnardo ? Bar . He Fran . You come most carefully vpon your houre Bar . ' Tis now strook twelue , get thee to bed Francisco Fran . For this releefe much thankes : ' Tis bitter cold , And I am sicke at heart Barn . Haue you had quiet Guard ? Fran . Not a Mouse stirring Barn . Well , goodnight . If you do meet Horatio and Marcellus , the Riuals of my Watch , bid them make hast . Enter Horatio and Marcellus . Fran . I thinke I heare them . Stand : who ' s there ? Hor . Friends to this ground Mar . And Leige - men to the Dane Fran . Giue you good night Mar . O farwel honest Soldier , who hath relieu ' d you ? Fra . Barnardo ha ' s my place : giue you goodnight . Exit Fran . Mar . Holla Barnardo Bar . Say , what is Horatio there ? Hor . A peece of him Bar . Welcome Horatio , welcome good Marcellus Mar . What , ha ' s this thing appear ' d againe to night Bar . I haue seene nothing Mar . Horatio saies , ' tis but our Fantasie , And will not let beleefe take hold of him Touching this dreaded sight , twice seene of vs , Therefore I haue intreated him along With vs , to watch the minutes of this Night , That if againe this Apparition come , He may approue our eyes , and speake to it Hor . Tush , tush , ' twill not appeare Bar . Sit downe a - while , And let vs once againe assaile your eares , That are so fortified against our Story , What we two Nights haue seene Hor . Well , sit we downe , And let vs heare Barnardo speake of this Barn . Last night of all , When yond same Starre that ' s Westward from the Pole Had made his course t ' illume that part of Heauen Where now it burnes , Marcellus and my selfe , The Bell then beating one Mar . Peace , breake thee of : Enter the Ghost . Looke where it comes againe Barn . In the same figure , like the King that ' s dead Mar . Thou art a Scholler ; speake to it Horatio Barn . Lookes it not like the King ? Marke it Horatio Hora . Most like : It harrowes me with fear & wonder Barn . It would be spoke too Mar . Question it Horatio Hor . What art "
     ]
    }
   ],
   "source": [
    "for word in hamlet[:500]:\n",
    "    print(word, sep=\"\", end=\" \")"
   ],
   "metadata": {
    "collapsed": false
   }
  },
  {
   "cell_type": "markdown",
   "source": [
    "## Tokenization Using NLTK and Spacy"
   ],
   "metadata": {
    "collapsed": false
   }
  },
  {
   "cell_type": "code",
   "execution_count": 22,
   "outputs": [
    {
     "data": {
      "text/plain": "['Hello',\n 'my',\n 'name',\n 'is',\n 'Shantanu',\n ',',\n 'how',\n 'are',\n 'you',\n 'doing',\n '?']"
     },
     "execution_count": 22,
     "metadata": {},
     "output_type": "execute_result"
    }
   ],
   "source": [
    "test_sentence_2 = \"Hello my name is Shantanu, how are you doing?\"\n",
    "word_tokenize(test_sentence_2)"
   ],
   "metadata": {
    "collapsed": false
   }
  },
  {
   "cell_type": "code",
   "execution_count": 23,
   "outputs": [
    {
     "data": {
      "text/plain": "11"
     },
     "execution_count": 23,
     "metadata": {},
     "output_type": "execute_result"
    }
   ],
   "source": [
    "token_list_2 = word_tokenize(test_sentence_2)\n",
    "\n",
    "len(token_list_2)"
   ],
   "metadata": {
    "collapsed": false
   }
  },
  {
   "cell_type": "markdown",
   "source": [
    "## Sentence Tokenization using NLTK"
   ],
   "metadata": {
    "collapsed": false
   }
  },
  {
   "cell_type": "code",
   "execution_count": 24,
   "outputs": [
    {
     "data": {
      "text/plain": "['Hello my name is Shantanu, how are you doing!', 'I am good.']"
     },
     "execution_count": 24,
     "metadata": {},
     "output_type": "execute_result"
    }
   ],
   "source": [
    "from nltk.tokenize import sent_tokenize\n",
    "\n",
    "test_sentence_3 = \"Hello my name is Shantanu, how are you doing! I am good.\"\n",
    "\n",
    "sent_tokenize(test_sentence_3)"
   ],
   "metadata": {
    "collapsed": false
   }
  },
  {
   "cell_type": "code",
   "execution_count": 25,
   "outputs": [
    {
     "data": {
      "text/plain": "2"
     },
     "execution_count": 25,
     "metadata": {},
     "output_type": "execute_result"
    }
   ],
   "source": [
    "token_list_3 = sent_tokenize(test_sentence_3)\n",
    "\n",
    "len(token_list_3)"
   ],
   "metadata": {
    "collapsed": false
   }
  },
  {
   "cell_type": "markdown",
   "source": [
    "## SpaCy"
   ],
   "metadata": {
    "collapsed": false
   }
  },
  {
   "cell_type": "code",
   "execution_count": 27,
   "outputs": [],
   "source": [
    "import spacy"
   ],
   "metadata": {
    "collapsed": false
   }
  },
  {
   "cell_type": "code",
   "execution_count": 28,
   "outputs": [],
   "source": [
    "spacy_nlp_obj = spacy.load('en_core_web_sm')\n",
    "\n",
    "test_sentence_4 = 'NLP is a very powerful tool'\n",
    "test_doc = spacy_nlp_obj(test_sentence_4)"
   ],
   "metadata": {
    "collapsed": false
   }
  },
  {
   "cell_type": "code",
   "execution_count": 29,
   "outputs": [
    {
     "name": "stdout",
     "output_type": "stream",
     "text": [
      "Text         Alpha Space Stop Punct\n",
      "It         : True False True False\n",
      "was        : True False True False\n",
      "amazing    : True False False False\n",
      "!          : False False False True\n",
      "It         : True False True False\n",
      "is         : True False True False\n",
      "a          : True False True False\n",
      "great      : True False False False\n",
      "pleasure   : True False False False\n",
      "to         : True False True False\n",
      "be         : True False True False\n",
      "a          : True False True False\n",
      "part       : True False True False\n",
      "of         : True False True False\n",
      "the        : True False True False\n",
      "band       : True False False False\n",
      ".          : False False False True\n"
     ]
    }
   ],
   "source": [
    "# Accessing information about tokens through the attributes\n",
    "\n",
    "random_text = 'It was amazing! It is a great pleasure to be a part of the band.'\n",
    "random_text_doc = spacy_nlp_obj(random_text)\n",
    "print(\"Text\".ljust(10), ' ', \"Alpha\", \"Space\", \"Stop\", \"Punct\")\n",
    "for token in random_text_doc:\n",
    "    print(token.text.ljust(10), ':', token.is_alpha, token.is_space, token.is_stop, token.is_punct)"
   ],
   "metadata": {
    "collapsed": false
   }
  },
  {
   "cell_type": "markdown",
   "source": [
    "## StopWords"
   ],
   "metadata": {
    "collapsed": false
   }
  },
  {
   "cell_type": "code",
   "execution_count": 30,
   "outputs": [],
   "source": [
    "from nltk.corpus import stopwords"
   ],
   "metadata": {
    "collapsed": false
   }
  },
  {
   "cell_type": "code",
   "execution_count": 31,
   "outputs": [
    {
     "data": {
      "text/plain": "{'a',\n 'about',\n 'above',\n 'after',\n 'again',\n 'against',\n 'ain',\n 'all',\n 'am',\n 'an',\n 'and',\n 'any',\n 'are',\n 'aren',\n \"aren't\",\n 'as',\n 'at',\n 'be',\n 'because',\n 'been',\n 'before',\n 'being',\n 'below',\n 'between',\n 'both',\n 'but',\n 'by',\n 'can',\n 'couldn',\n \"couldn't\",\n 'd',\n 'did',\n 'didn',\n \"didn't\",\n 'do',\n 'does',\n 'doesn',\n \"doesn't\",\n 'doing',\n 'don',\n \"don't\",\n 'down',\n 'during',\n 'each',\n 'few',\n 'for',\n 'from',\n 'further',\n 'had',\n 'hadn',\n \"hadn't\",\n 'has',\n 'hasn',\n \"hasn't\",\n 'have',\n 'haven',\n \"haven't\",\n 'having',\n 'he',\n 'her',\n 'here',\n 'hers',\n 'herself',\n 'him',\n 'himself',\n 'his',\n 'how',\n 'i',\n 'if',\n 'in',\n 'into',\n 'is',\n 'isn',\n \"isn't\",\n 'it',\n \"it's\",\n 'its',\n 'itself',\n 'just',\n 'll',\n 'm',\n 'ma',\n 'me',\n 'mightn',\n \"mightn't\",\n 'more',\n 'most',\n 'mustn',\n \"mustn't\",\n 'my',\n 'myself',\n 'needn',\n \"needn't\",\n 'no',\n 'nor',\n 'not',\n 'now',\n 'o',\n 'of',\n 'off',\n 'on',\n 'once',\n 'only',\n 'or',\n 'other',\n 'our',\n 'ours',\n 'ourselves',\n 'out',\n 'over',\n 'own',\n 're',\n 's',\n 'same',\n 'shan',\n \"shan't\",\n 'she',\n \"she's\",\n 'should',\n \"should've\",\n 'shouldn',\n \"shouldn't\",\n 'so',\n 'some',\n 'such',\n 't',\n 'than',\n 'that',\n \"that'll\",\n 'the',\n 'their',\n 'theirs',\n 'them',\n 'themselves',\n 'then',\n 'there',\n 'these',\n 'they',\n 'this',\n 'those',\n 'through',\n 'to',\n 'too',\n 'under',\n 'until',\n 'up',\n 've',\n 'very',\n 'was',\n 'wasn',\n \"wasn't\",\n 'we',\n 'were',\n 'weren',\n \"weren't\",\n 'what',\n 'when',\n 'where',\n 'which',\n 'while',\n 'who',\n 'whom',\n 'why',\n 'will',\n 'with',\n 'won',\n \"won't\",\n 'wouldn',\n \"wouldn't\",\n 'y',\n 'you',\n \"you'd\",\n \"you'll\",\n \"you're\",\n \"you've\",\n 'your',\n 'yours',\n 'yourself',\n 'yourselves'}"
     },
     "execution_count": 31,
     "metadata": {},
     "output_type": "execute_result"
    }
   ],
   "source": [
    "stopwords = set(stopwords.words('english'))\n",
    "\n",
    "stopwords"
   ],
   "metadata": {
    "collapsed": false
   }
  },
  {
   "cell_type": "code",
   "execution_count": 32,
   "outputs": [
    {
     "data": {
      "text/plain": "['Always',\n 'do',\n 'right',\n '.',\n 'This',\n 'will',\n 'gratify',\n 'some',\n 'people',\n 'and',\n 'astonish',\n 'the',\n 'rest',\n '.']"
     },
     "execution_count": 32,
     "metadata": {},
     "output_type": "execute_result"
    }
   ],
   "source": [
    "test_sentence_5 = \"Always do right. This will gratify some people and astonish the rest.\"\n",
    "\n",
    "token_list_5 = word_tokenize(test_sentence_5)\n",
    "\n",
    "token_list_5"
   ],
   "metadata": {
    "collapsed": false
   }
  },
  {
   "cell_type": "code",
   "execution_count": 34,
   "outputs": [
    {
     "data": {
      "text/plain": "['Always', 'right', '.', 'This', 'gratify', 'people', 'astonish', 'rest', '.']"
     },
     "execution_count": 34,
     "metadata": {},
     "output_type": "execute_result"
    }
   ],
   "source": [
    "filtered_words = [w for w in token_list_5 if not w in stopwords]\n",
    "\n",
    "filtered_words"
   ],
   "metadata": {
    "collapsed": false
   }
  },
  {
   "cell_type": "markdown",
   "source": [
    "### Adding words to existing english stopwords"
   ],
   "metadata": {
    "collapsed": false
   }
  },
  {
   "cell_type": "code",
   "execution_count": 36,
   "outputs": [],
   "source": [
    "custom_stopwords_ls = ['I', 'shantanu', 'google']\n",
    "custom_stopwords = nltk.corpus.stopwords.words('english')\n",
    "\n",
    "custom_stopwords.extend(custom_stopwords_ls)"
   ],
   "metadata": {
    "collapsed": false
   }
  },
  {
   "cell_type": "code",
   "execution_count": 37,
   "outputs": [
    {
     "data": {
      "text/plain": "['i',\n 'me',\n 'my',\n 'myself',\n 'we',\n 'our',\n 'ours',\n 'ourselves',\n 'you',\n \"you're\",\n \"you've\",\n \"you'll\",\n \"you'd\",\n 'your',\n 'yours',\n 'yourself',\n 'yourselves',\n 'he',\n 'him',\n 'his',\n 'himself',\n 'she',\n \"she's\",\n 'her',\n 'hers',\n 'herself',\n 'it',\n \"it's\",\n 'its',\n 'itself',\n 'they',\n 'them',\n 'their',\n 'theirs',\n 'themselves',\n 'what',\n 'which',\n 'who',\n 'whom',\n 'this',\n 'that',\n \"that'll\",\n 'these',\n 'those',\n 'am',\n 'is',\n 'are',\n 'was',\n 'were',\n 'be',\n 'been',\n 'being',\n 'have',\n 'has',\n 'had',\n 'having',\n 'do',\n 'does',\n 'did',\n 'doing',\n 'a',\n 'an',\n 'the',\n 'and',\n 'but',\n 'if',\n 'or',\n 'because',\n 'as',\n 'until',\n 'while',\n 'of',\n 'at',\n 'by',\n 'for',\n 'with',\n 'about',\n 'against',\n 'between',\n 'into',\n 'through',\n 'during',\n 'before',\n 'after',\n 'above',\n 'below',\n 'to',\n 'from',\n 'up',\n 'down',\n 'in',\n 'out',\n 'on',\n 'off',\n 'over',\n 'under',\n 'again',\n 'further',\n 'then',\n 'once',\n 'here',\n 'there',\n 'when',\n 'where',\n 'why',\n 'how',\n 'all',\n 'any',\n 'both',\n 'each',\n 'few',\n 'more',\n 'most',\n 'other',\n 'some',\n 'such',\n 'no',\n 'nor',\n 'not',\n 'only',\n 'own',\n 'same',\n 'so',\n 'than',\n 'too',\n 'very',\n 's',\n 't',\n 'can',\n 'will',\n 'just',\n 'don',\n \"don't\",\n 'should',\n \"should've\",\n 'now',\n 'd',\n 'll',\n 'm',\n 'o',\n 're',\n 've',\n 'y',\n 'ain',\n 'aren',\n \"aren't\",\n 'couldn',\n \"couldn't\",\n 'didn',\n \"didn't\",\n 'doesn',\n \"doesn't\",\n 'hadn',\n \"hadn't\",\n 'hasn',\n \"hasn't\",\n 'haven',\n \"haven't\",\n 'isn',\n \"isn't\",\n 'ma',\n 'mightn',\n \"mightn't\",\n 'mustn',\n \"mustn't\",\n 'needn',\n \"needn't\",\n 'shan',\n \"shan't\",\n 'shouldn',\n \"shouldn't\",\n 'wasn',\n \"wasn't\",\n 'weren',\n \"weren't\",\n 'won',\n \"won't\",\n 'wouldn',\n \"wouldn't\",\n 'I',\n 'shantanu',\n 'google']"
     },
     "execution_count": 37,
     "metadata": {},
     "output_type": "execute_result"
    }
   ],
   "source": [
    "custom_stopwords"
   ],
   "metadata": {
    "collapsed": false
   }
  },
  {
   "cell_type": "markdown",
   "source": [
    "## Removing Punctuations"
   ],
   "metadata": {
    "collapsed": false
   }
  },
  {
   "cell_type": "markdown",
   "source": [
    "### Using RegexpTokenizer"
   ],
   "metadata": {
    "collapsed": false
   }
  },
  {
   "cell_type": "code",
   "execution_count": 38,
   "outputs": [
    {
     "data": {
      "text/plain": "'The match has concluded India has won the match Will we win the finals too'"
     },
     "execution_count": 38,
     "metadata": {},
     "output_type": "execute_result"
    }
   ],
   "source": [
    "test_sentence_6 = \"The match has concluded !!! India has won the match. Will we win the finals too?!\"\n",
    "\n",
    "tokenizer = nltk.RegexpTokenizer(r\"\\w+\")\n",
    "token_list_6 = tokenizer.tokenize(test_sentence_6)\n",
    "\" \".join(token_list_6)"
   ],
   "metadata": {
    "collapsed": false
   }
  },
  {
   "cell_type": "markdown",
   "source": [
    "### Using Spacy"
   ],
   "metadata": {
    "collapsed": false
   }
  },
  {
   "cell_type": "code",
   "execution_count": 39,
   "outputs": [
    {
     "data": {
      "text/plain": "'The match has concluded India has won the match Will we win the finals too'"
     },
     "execution_count": 39,
     "metadata": {},
     "output_type": "execute_result"
    }
   ],
   "source": [
    "nlp = spacy.load('en_core_web_sm')\n",
    "doc = nlp(test_sentence_6)\n",
    "new_tokens = []\n",
    "# Check if a token is a punctuation through is_punct attribute\n",
    "for token in doc:\n",
    "    if not token.is_punct:\n",
    "        new_tokens.append(token.text)\n",
    "\n",
    "\" \".join(new_tokens)"
   ],
   "metadata": {
    "collapsed": false
   }
  },
  {
   "cell_type": "code",
   "execution_count": null,
   "outputs": [],
   "source": [],
   "metadata": {
    "collapsed": false
   }
  }
 ],
 "metadata": {
  "kernelspec": {
   "display_name": "Python 3",
   "language": "python",
   "name": "python3"
  },
  "language_info": {
   "codemirror_mode": {
    "name": "ipython",
    "version": 2
   },
   "file_extension": ".py",
   "mimetype": "text/x-python",
   "name": "python",
   "nbconvert_exporter": "python",
   "pygments_lexer": "ipython2",
   "version": "2.7.6"
  }
 },
 "nbformat": 4,
 "nbformat_minor": 0
}
