{
 "cells": [
  {
   "cell_type": "markdown",
   "source": [
    "# <center>Shri Ramdeobaba College of Engineering and Nagpur</center>\n",
    "## <center>Department of Computer Science and Engineering</center>\n",
    "## <center>Natural Language Processing Lab</center>\n",
    "\n",
    "**Name** : Shantanu Mane\n",
    "**Branch** : CSE - AIML (VI<sup>th</sup> SEM)\n",
    "**Roll Num** : E-63"
   ],
   "metadata": {
    "collapsed": false
   }
  },
  {
   "cell_type": "markdown",
   "source": [
    "## Importing the Dependencies"
   ],
   "metadata": {
    "collapsed": false
   }
  },
  {
   "cell_type": "code",
   "execution_count": 1,
   "metadata": {
    "collapsed": true,
    "ExecuteTime": {
     "start_time": "2023-04-16T22:41:22.821085Z",
     "end_time": "2023-04-16T22:41:25.915370Z"
    }
   },
   "outputs": [],
   "source": [
    "from nltk.stem.porter import PorterStemmer\n",
    "from nltk.stem.snowball import SnowballStemmer\n",
    "from nltk.stem.lancaster import LancasterStemmer\n",
    "from nltk.stem.regexp import RegexpStemmer\n",
    "\n",
    "from nltk.stem import WordNetLemmatizer"
   ]
  },
  {
   "cell_type": "code",
   "execution_count": 2,
   "outputs": [],
   "source": [
    "tokens = [\"running\", \"runners\", \"ran\", \"runs\", \"swimming\", \"swimmer\", \"swam\", \"swims\", \"jumping\", \"jumper\", \"jumped\",\n",
    "          \"jumps\"]"
   ],
   "metadata": {
    "collapsed": false,
    "ExecuteTime": {
     "start_time": "2023-04-16T22:41:25.883368Z",
     "end_time": "2023-04-16T22:41:25.989961Z"
    }
   }
  },
  {
   "cell_type": "markdown",
   "source": [
    "## Stemming Using Porter Stemmer, Snowball Stemmer, Lancaster Stemmer and Regexp Stemmer"
   ],
   "metadata": {
    "collapsed": false
   }
  },
  {
   "cell_type": "code",
   "execution_count": 3,
   "outputs": [],
   "source": [
    "porter = PorterStemmer()\n",
    "snowball = SnowballStemmer(\"english\")\n",
    "lancaster = LancasterStemmer()\n",
    "regexp = RegexpStemmer(\"ing$|s$|ed$\", min=4)"
   ],
   "metadata": {
    "collapsed": false,
    "ExecuteTime": {
     "start_time": "2023-04-16T22:41:28.659814Z",
     "end_time": "2023-04-16T22:41:28.723433Z"
    }
   }
  },
  {
   "cell_type": "code",
   "execution_count": 4,
   "outputs": [
    {
     "name": "stdout",
     "output_type": "stream",
     "text": [
      "Stemming Results:\n",
      "Porter Stemmer: ['run', 'runner', 'ran', 'run', 'swim', 'swimmer', 'swam', 'swim', 'jump', 'jumper', 'jump', 'jump']\n",
      "Snowball Stemmer: ['run', 'runner', 'ran', 'run', 'swim', 'swimmer', 'swam', 'swim', 'jump', 'jumper', 'jump', 'jump']\n",
      "Lancaster Stemmer: ['run', 'run', 'ran', 'run', 'swim', 'swim', 'swam', 'swim', 'jump', 'jump', 'jump', 'jump']\n",
      "Regexp Stemmer: ['runn', 'runner', 'ran', 'run', 'swimm', 'swimmer', 'swam', 'swim', 'jump', 'jumper', 'jump', 'jump']\n"
     ]
    }
   ],
   "source": [
    "print(\"Stemming Results:\")\n",
    "print(\"Porter Stemmer:\", [porter.stem(token) for token in tokens])\n",
    "print(\"Snowball Stemmer:\", [snowball.stem(token) for token in tokens])\n",
    "print(\"Lancaster Stemmer:\", [lancaster.stem(token) for token in tokens])\n",
    "print(\"Regexp Stemmer:\", [regexp.stem(token) for token in tokens])"
   ],
   "metadata": {
    "collapsed": false,
    "ExecuteTime": {
     "start_time": "2023-04-16T22:41:40.248524Z",
     "end_time": "2023-04-16T22:41:40.361064Z"
    }
   }
  },
  {
   "cell_type": "markdown",
   "source": [
    "## Lemmatization Using WordNet Lemmatizer"
   ],
   "metadata": {
    "collapsed": false
   }
  },
  {
   "cell_type": "code",
   "execution_count": 5,
   "outputs": [],
   "source": [
    "lemmatizer = WordNetLemmatizer()"
   ],
   "metadata": {
    "collapsed": false,
    "ExecuteTime": {
     "start_time": "2023-04-16T22:42:37.599757Z",
     "end_time": "2023-04-16T22:42:37.714758Z"
    }
   }
  },
  {
   "cell_type": "code",
   "execution_count": 6,
   "outputs": [
    {
     "name": "stdout",
     "output_type": "stream",
     "text": [
      "\n",
      "Lemmatization Results:\n",
      "WordNet Lemmatizer: ['running', 'runner', 'ran', 'run', 'swimming', 'swimmer', 'swam', 'swim', 'jumping', 'jumper', 'jumped', 'jump']\n"
     ]
    }
   ],
   "source": [
    "print(\"\\nLemmatization Results:\")\n",
    "print(\"WordNet Lemmatizer:\", [lemmatizer.lemmatize(token) for token in tokens])"
   ],
   "metadata": {
    "collapsed": false,
    "ExecuteTime": {
     "start_time": "2023-04-16T22:42:48.346208Z",
     "end_time": "2023-04-16T22:42:50.201575Z"
    }
   }
  },
  {
   "cell_type": "code",
   "execution_count": null,
   "outputs": [],
   "source": [],
   "metadata": {
    "collapsed": false
   }
  }
 ],
 "metadata": {
  "kernelspec": {
   "display_name": "Python 3",
   "language": "python",
   "name": "python3"
  },
  "language_info": {
   "codemirror_mode": {
    "name": "ipython",
    "version": 2
   },
   "file_extension": ".py",
   "mimetype": "text/x-python",
   "name": "python",
   "nbconvert_exporter": "python",
   "pygments_lexer": "ipython2",
   "version": "2.7.6"
  }
 },
 "nbformat": 4,
 "nbformat_minor": 0
}
