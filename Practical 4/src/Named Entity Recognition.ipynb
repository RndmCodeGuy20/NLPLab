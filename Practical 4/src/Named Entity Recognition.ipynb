{
 "cells": [
  {
   "cell_type": "markdown",
   "source": [
    "# <center>Shri Ramdeobaba College of Engineering and Nagpur</center>\n",
    "## <center>Department of Computer Science and Engineering</center>\n",
    "## <center>Natural Language Processing Lab</center>\n",
    "\n",
    "**Name** : Shantanu Mane\n",
    "**Branch** : CSE - AIML (VI<sup>th</sup> SEM)\n",
    "**Roll Num** : E-63"
   ],
   "metadata": {
    "collapsed": false
   }
  },
  {
   "cell_type": "code",
   "execution_count": null,
   "metadata": {
    "collapsed": true
   },
   "outputs": [],
   "source": []
  }
 ],
 "metadata": {
  "kernelspec": {
   "display_name": "Python 3",
   "language": "python",
   "name": "python3"
  },
  "language_info": {
   "codemirror_mode": {
    "name": "ipython",
    "version": 2
   },
   "file_extension": ".py",
   "mimetype": "text/x-python",
   "name": "python",
   "nbconvert_exporter": "python",
   "pygments_lexer": "ipython2",
   "version": "2.7.6"
  }
 },
 "nbformat": 4,
 "nbformat_minor": 0
}
