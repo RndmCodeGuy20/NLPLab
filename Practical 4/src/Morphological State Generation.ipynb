{
 "cells": [
  {
   "cell_type": "markdown",
   "source": [
    "# <center>Shri Ramdeobaba College of Engineering and Nagpur</center>\n",
    "## <center>Department of Computer Science and Engineering</center>\n",
    "## <center>Natural Language Processing Lab</center>\n",
    "\n",
    "**Name** : Shantanu Mane\n",
    "**Branch** : CSE - AIML (VI<sup>th</sup> SEM)\n",
    "**Roll Num** : E-63\n"
   ],
   "metadata": {
    "collapsed": false
   }
  },
  {
   "cell_type": "markdown",
   "source": [
    "## Importing the Dependencies"
   ],
   "metadata": {
    "collapsed": false
   }
  },
  {
   "cell_type": "code",
   "execution_count": 2,
   "metadata": {
    "collapsed": true,
    "ExecuteTime": {
     "start_time": "2023-04-16T22:47:58.359532Z",
     "end_time": "2023-04-16T22:47:58.394922Z"
    }
   },
   "outputs": [],
   "source": [
    "from statemachine import StateMachine, State"
   ]
  },
  {
   "cell_type": "markdown",
   "source": [
    "## Defining the Morphology Generator Class, which inherits from the StateMachine class"
   ],
   "metadata": {
    "collapsed": false
   }
  },
  {
   "cell_type": "code",
   "execution_count": 3,
   "outputs": [],
   "source": [
    "class MorphologyGenerator(StateMachine):\n",
    "    root = State('root', initial=True)\n",
    "    plural = State('plural')\n",
    "    past_tense = State('past_tense')\n",
    "    past_participle = State('past_participle')\n",
    "\n",
    "    to_plural = root.to(plural)\n",
    "    to_past_tense = root.to(past_tense)\n",
    "    to_past_participle = root.to(past_participle)\n",
    "    back_to_root = plural.to(root) | past_tense.to(root) | past_participle.to(root)\n",
    "\n",
    "    def generate_plural(self, word):\n",
    "        return word + 's'\n",
    "\n",
    "    def generate_past_tense(self, word):\n",
    "        if word.endswith('e'):\n",
    "            return word + 'd'\n",
    "        elif word.endswith(('y', 's', 'z', 'o')):\n",
    "            return word + 'ed'\n",
    "        else:\n",
    "            return word + 'ed'\n",
    "\n",
    "    def generate_past_participle(self, word):\n",
    "        if word.endswith('e'):\n",
    "            return word + 'd'\n",
    "        elif word.endswith(('y', 's', 'z', 'o')):\n",
    "            return word + 'ed'\n",
    "        else:\n",
    "            return word + 'ed'"
   ],
   "metadata": {
    "collapsed": false,
    "ExecuteTime": {
     "start_time": "2023-04-16T22:49:14.686794Z",
     "end_time": "2023-04-16T22:49:14.716782Z"
    }
   }
  },
  {
   "cell_type": "markdown",
   "source": [
    "## Testing the Morphology Generator Class, by generating the plural, past tense and past participle forms of the word \"play\"."
   ],
   "metadata": {
    "collapsed": false
   }
  },
  {
   "cell_type": "code",
   "execution_count": 4,
   "outputs": [
    {
     "name": "stdout",
     "output_type": "stream",
     "text": [
      "Plural form of \"play\" is \"plays\"\n",
      "Past tense form of \"play\" is \"played\"\n",
      "Past participle form of \"play\" is \"played\"\n"
     ]
    }
   ],
   "source": [
    "mg = MorphologyGenerator()\n",
    "word = 'play'\n",
    "\n",
    "# Generate the plural form of the word\n",
    "mg.to_plural()\n",
    "plural_form = mg.generate_plural(word)\n",
    "print(f'Plural form of \"{word}\" is \"{plural_form}\"')\n",
    "\n",
    "# Generate the past tense form of the word\n",
    "mg.back_to_root()\n",
    "mg.to_past_tense()\n",
    "past_tense_form = mg.generate_past_tense(word)\n",
    "print(f'Past tense form of \"{word}\" is \"{past_tense_form}\"')\n",
    "\n",
    "# Generate the past participle form of the word\n",
    "mg.back_to_root()\n",
    "mg.to_past_participle()\n",
    "past_participle_form = mg.generate_past_participle(word)\n",
    "print(f'Past participle form of \"{word}\" is \"{past_participle_form}\"')\n"
   ],
   "metadata": {
    "collapsed": false,
    "ExecuteTime": {
     "start_time": "2023-04-16T22:49:15.610232Z",
     "end_time": "2023-04-16T22:49:15.672178Z"
    }
   }
  },
  {
   "cell_type": "code",
   "execution_count": null,
   "outputs": [],
   "source": [],
   "metadata": {
    "collapsed": false
   }
  }
 ],
 "metadata": {
  "kernelspec": {
   "display_name": "Python 3",
   "language": "python",
   "name": "python3"
  },
  "language_info": {
   "codemirror_mode": {
    "name": "ipython",
    "version": 2
   },
   "file_extension": ".py",
   "mimetype": "text/x-python",
   "name": "python",
   "nbconvert_exporter": "python",
   "pygments_lexer": "ipython2",
   "version": "2.7.6"
  }
 },
 "nbformat": 4,
 "nbformat_minor": 0
}
