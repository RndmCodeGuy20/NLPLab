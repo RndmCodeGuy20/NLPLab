{
 "cells": [
  {
   "cell_type": "markdown",
   "source": [
    "# <center>Shri Ramdeobaba College of Engineering and Management, Nagpur</center>\n",
    "## <center>Department of Computer Science and Engineering</center>\n",
    "## <center>Natural Language Processing Lab</center>\n",
    "\n",
    "**Name** : Shantanu Mane\n",
    "**Branch** : CSE - AIML ($VI^{th}$ SEM)\n",
    "**Roll Num** : E-63"
   ],
   "metadata": {
    "collapsed": false
   }
  },
  {
   "cell_type": "markdown",
   "source": [
    "<h2> AIM :</h2>\n",
    "\n",
    "1. Write a Python NLTK program to find the number of male and female names in the names corpus.Print the first 10 male and female names.\n",
    "Note: The names corpus contains a total of around 2943 male (male.txt)  and 5001 female (female.txt) names.\n",
    "2. Write a Python NLTK program to print the first 15 random combine labeled male and labeled female names from names corpus."
   ],
   "metadata": {
    "collapsed": false
   }
  },
  {
   "cell_type": "markdown",
   "source": [
    "## 1. Importing the Dependencies"
   ],
   "metadata": {
    "collapsed": false
   }
  },
  {
   "cell_type": "code",
   "execution_count": 9,
   "outputs": [],
   "source": [
    "import random\n",
    "\n",
    "from nltk.corpus import names"
   ],
   "metadata": {
    "collapsed": false
   }
  },
  {
   "cell_type": "markdown",
   "source": [
    "## Part A:\n",
    "\n",
    "## A.1 Analyzing the Names Corpus"
   ],
   "metadata": {
    "collapsed": false
   }
  },
  {
   "cell_type": "code",
   "execution_count": 2,
   "outputs": [
    {
     "data": {
      "text/plain": "['female.txt', 'male.txt']"
     },
     "execution_count": 2,
     "metadata": {},
     "output_type": "execute_result"
    }
   ],
   "source": [
    "names.fileids()"
   ],
   "metadata": {
    "collapsed": false
   }
  },
  {
   "cell_type": "code",
   "execution_count": 6,
   "outputs": [],
   "source": [
    "male_names = names.words('male.txt')\n",
    "female_names = names.words('female.txt')"
   ],
   "metadata": {
    "collapsed": false
   }
  },
  {
   "cell_type": "markdown",
   "source": [
    "### A.1.1 Number of Male and Female Names"
   ],
   "metadata": {
    "collapsed": false
   }
  },
  {
   "cell_type": "code",
   "execution_count": 7,
   "outputs": [
    {
     "name": "stdout",
     "output_type": "stream",
     "text": [
      "total male names : 2943\n",
      "\n",
      "total female names : 5001\n"
     ]
    }
   ],
   "source": [
    "print(f\"total male names : {len(male_names)}\\n\"\n",
    "      f\"\\ntotal female names : {len(female_names)}\")"
   ],
   "metadata": {
    "collapsed": false
   }
  },
  {
   "cell_type": "markdown",
   "source": [
    "### A.1.2 First 10 Male and Female Names"
   ],
   "metadata": {
    "collapsed": false
   }
  },
  {
   "cell_type": "code",
   "execution_count": 8,
   "outputs": [
    {
     "name": "stdout",
     "output_type": "stream",
     "text": [
      "first 10 male names in the names corpus : ['Aamir', 'Aaron', 'Abbey', 'Abbie', 'Abbot', 'Abbott', 'Abby', 'Abdel', 'Abdul', 'Abdulkarim']\n",
      "\n",
      "first 10 female names in the names corpus : ['Abagael', 'Abagail', 'Abbe', 'Abbey', 'Abbi', 'Abbie', 'Abby', 'Abigael', 'Abigail', 'Abigale']\n"
     ]
    }
   ],
   "source": [
    "print(\n",
    "    f\"first 10 male names in the names corpus : {male_names[:10]}\\n\"\n",
    "    f\"\\nfirst 10 female names in the names corpus : {female_names[:10]}\"\n",
    ")"
   ],
   "metadata": {
    "collapsed": false
   }
  },
  {
   "cell_type": "markdown",
   "source": [
    "## Part B"
   ],
   "metadata": {
    "collapsed": false
   }
  },
  {
   "cell_type": "markdown",
   "source": [
    "### B.1 Getting 15 Random Male and Female Names"
   ],
   "metadata": {
    "collapsed": false
   }
  },
  {
   "cell_type": "code",
   "execution_count": 10,
   "outputs": [
    {
     "name": "stdout",
     "output_type": "stream",
     "text": [
      "15 random male names : ['Foster', 'Thibaud', 'Dabney', 'Edward', 'Lay', 'Griffith', 'Levin', 'Grover', 'Philip', 'Jamey', 'Douglass', 'Jay', 'Sanderson', 'Flynn', 'Nathanael']\n"
     ]
    }
   ],
   "source": [
    "print(f\"15 random male names : {random.sample(male_names, 15)}\")"
   ],
   "metadata": {
    "collapsed": false
   }
  },
  {
   "cell_type": "code",
   "execution_count": 11,
   "outputs": [
    {
     "name": "stdout",
     "output_type": "stream",
     "text": [
      "15 random female names : ['Vi', 'Donetta', 'Lauren', 'Laverne', 'Traci', 'Christa', 'Delinda', 'Mirella', 'Ruthann', 'Dori', 'Hildy', 'Julee', 'Jany', 'Evette', 'Karrah']\n"
     ]
    }
   ],
   "source": [
    "print(f\"15 random female names : {random.sample(female_names, 15)}\")"
   ],
   "metadata": {
    "collapsed": false
   }
  },
  {
   "cell_type": "code",
   "execution_count": null,
   "outputs": [],
   "source": [],
   "metadata": {
    "collapsed": false
   }
  }
 ],
 "metadata": {
  "kernelspec": {
   "display_name": "Python 3",
   "language": "python",
   "name": "python3"
  },
  "language_info": {
   "codemirror_mode": {
    "name": "ipython",
    "version": 2
   },
   "file_extension": ".py",
   "mimetype": "text/x-python",
   "name": "python",
   "nbconvert_exporter": "python",
   "pygments_lexer": "ipython2",
   "version": "2.7.6"
  }
 },
 "nbformat": 4,
 "nbformat_minor": 0
}
