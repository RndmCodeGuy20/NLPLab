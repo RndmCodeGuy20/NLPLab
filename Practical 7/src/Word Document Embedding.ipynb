{
 "cells": [
  {
   "cell_type": "markdown",
   "source": [
    "# <center>Shri Ramdeobaba College of Engineering and Nagpur</center>\n",
    "## <center>Department of Computer Science and Engineering</center>\n",
    "## <center>Natural Language Processing Lab</center>\n",
    "\n",
    "**Name** : Shantanu Mane <br>\n",
    "**Branch** : CSE - AIML (VI<sup>th</sup> SEM) <br>\n",
    "**Roll Num** : E-63"
   ],
   "metadata": {
    "collapsed": false
   }
  },
  {
   "cell_type": "markdown",
   "source": [
    "## Importing the Dependencies"
   ],
   "metadata": {
    "collapsed": false
   }
  },
  {
   "cell_type": "code",
   "execution_count": 1,
   "metadata": {
    "collapsed": true,
    "ExecuteTime": {
     "start_time": "2023-04-25T11:37:06.247763Z",
     "end_time": "2023-04-25T11:37:10.668351Z"
    }
   },
   "outputs": [],
   "source": [
    "from sklearn.feature_extraction.text import TfidfVectorizer"
   ]
  },
  {
   "cell_type": "markdown",
   "source": [
    "## Creating Vectorizer Object"
   ],
   "metadata": {
    "collapsed": false
   }
  },
  {
   "cell_type": "code",
   "execution_count": 2,
   "outputs": [],
   "source": [
    "vectorizer = TfidfVectorizer(stop_words='english', smooth_idf=True)"
   ],
   "metadata": {
    "collapsed": false,
    "ExecuteTime": {
     "start_time": "2023-04-25T11:37:51.298012Z",
     "end_time": "2023-04-25T11:37:51.311585Z"
    }
   }
  },
  {
   "cell_type": "code",
   "execution_count": 9,
   "outputs": [
    {
     "data": {
      "text/plain": "{'It',\n 'age',\n 'best',\n 'foolishness,',\n 'it',\n 'of',\n 'the',\n 'times',\n 'was',\n 'wisdom',\n 'worst'}"
     },
     "execution_count": 9,
     "metadata": {},
     "output_type": "execute_result"
    }
   ],
   "source": [
    "text = \"\"\"It was the best of times it was the worst of times it was the age of wisdom it was the age of foolishness,\"\"\"\n",
    "\n",
    "text_vector = set(text.split(\" \"))\n",
    "\n",
    "text_vector"
   ],
   "metadata": {
    "collapsed": false,
    "ExecuteTime": {
     "start_time": "2023-04-25T11:43:04.052225Z",
     "end_time": "2023-04-25T11:43:04.076668Z"
    }
   }
  },
  {
   "cell_type": "code",
   "execution_count": 10,
   "outputs": [
    {
     "name": "stdout",
     "output_type": "stream",
     "text": [
      "  (2, 5)\t1.0\n",
      "  (3, 4)\t1.0\n",
      "  (4, 2)\t1.0\n",
      "  (6, 0)\t1.0\n",
      "  (7, 3)\t1.0\n",
      "  (9, 1)\t1.0\n"
     ]
    }
   ],
   "source": [
    "input_matrix = vectorizer.fit_transform(text_vector)\n",
    "print(input_matrix)"
   ],
   "metadata": {
    "collapsed": false,
    "ExecuteTime": {
     "start_time": "2023-04-25T11:43:04.982676Z",
     "end_time": "2023-04-25T11:43:04.994707Z"
    }
   }
  },
  {
   "cell_type": "code",
   "execution_count": 11,
   "outputs": [
    {
     "data": {
      "text/plain": "matrix([[0., 0., 0., 0., 0., 0.],\n        [0., 0., 0., 0., 0., 0.],\n        [0., 0., 0., 0., 0., 1.],\n        [0., 0., 0., 0., 1., 0.],\n        [0., 0., 1., 0., 0., 0.],\n        [0., 0., 0., 0., 0., 0.],\n        [1., 0., 0., 0., 0., 0.],\n        [0., 0., 0., 1., 0., 0.],\n        [0., 0., 0., 0., 0., 0.],\n        [0., 1., 0., 0., 0., 0.],\n        [0., 0., 0., 0., 0., 0.]])"
     },
     "execution_count": 11,
     "metadata": {},
     "output_type": "execute_result"
    }
   ],
   "source": [
    "input_matrix = vectorizer.fit_transform(text_vector).todense()\n",
    "\n",
    "input_matrix"
   ],
   "metadata": {
    "collapsed": false,
    "ExecuteTime": {
     "start_time": "2023-04-25T11:43:06.271475Z",
     "end_time": "2023-04-25T11:43:06.288743Z"
    }
   }
  },
  {
   "cell_type": "code",
   "execution_count": null,
   "outputs": [],
   "source": [],
   "metadata": {
    "collapsed": false
   }
  }
 ],
 "metadata": {
  "kernelspec": {
   "display_name": "Python 3",
   "language": "python",
   "name": "python3"
  },
  "language_info": {
   "codemirror_mode": {
    "name": "ipython",
    "version": 2
   },
   "file_extension": ".py",
   "mimetype": "text/x-python",
   "name": "python",
   "nbconvert_exporter": "python",
   "pygments_lexer": "ipython2",
   "version": "2.7.6"
  }
 },
 "nbformat": 4,
 "nbformat_minor": 0
}
